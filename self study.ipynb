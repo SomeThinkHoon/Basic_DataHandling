{
 "cells": [
  {
   "cell_type": "code",
   "execution_count": 2,
   "metadata": {},
   "outputs": [
    {
     "name": "stdout",
     "output_type": "stream",
     "text": [
      "173\n",
      "머쓱이보다 키큰 사람은 2 명 입니다.\n"
     ]
    }
   ],
   "source": [
    "array = [149, 180, 192, 170]\n",
    "\n",
    "height = int(input())\n",
    "tmp = list()\n",
    "\n",
    "for i in array :\n",
    "    if i > height:\n",
    "        tmp.append(i)\n",
    "\n",
    "print(\"머쓱이보다 키큰 사람은\", len(tmp), \"명 입니다.\")"
   ]
  },
  {
   "cell_type": "code",
   "execution_count": 21,
   "metadata": {},
   "outputs": [
    {
     "name": "stdout",
     "output_type": "stream",
     "text": [
      "<class 'str'>\n",
      "<class 'list'>\n"
     ]
    }
   ],
   "source": [
    "print(type(height))\n",
    "print(type(array))"
   ]
  },
  {
   "cell_type": "code",
   "execution_count": 29,
   "metadata": {},
   "outputs": [
    {
     "name": "stdout",
     "output_type": "stream",
     "text": [
      "123\n"
     ]
    }
   ],
   "source": [
    "height = int(input())\n",
    "\n",
    "def solution(array, height):\n",
    "    array = [149, 180, 192, 170]\n",
    "    tmp = list()\n",
    "    \n",
    "    for i in array :\n",
    "        if i > height:\n",
    "            length = tmp.append(i)\n",
    "    answer = length\n",
    "    return answer"
   ]
  },
  {
   "cell_type": "code",
   "execution_count": null,
   "metadata": {},
   "outputs": [],
   "source": []
  }
 ],
 "metadata": {
  "kernelspec": {
   "display_name": "Python 3",
   "language": "python",
   "name": "python3"
  },
  "language_info": {
   "codemirror_mode": {
    "name": "ipython",
    "version": 3
   },
   "file_extension": ".py",
   "mimetype": "text/x-python",
   "name": "python",
   "nbconvert_exporter": "python",
   "pygments_lexer": "ipython3",
   "version": "3.8.10"
  }
 },
 "nbformat": 4,
 "nbformat_minor": 4
}
