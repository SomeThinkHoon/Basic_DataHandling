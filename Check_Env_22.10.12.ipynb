{
 "cells": [
  {
   "cell_type": "code",
   "execution_count": 2,
   "metadata": {},
   "outputs": [
    {
     "name": "stdout",
     "output_type": "stream",
     "text": [
      "NanumMyeongjo\n",
      "NanumMyeongjo\n",
      "NanumGothicCoding\n",
      "NanumBarunGothic\n",
      "NanumSquare\n",
      "NanumGothic Eco\n",
      "NanumSquareRound\n",
      "Nanum Pen Script\n",
      "NanumBarunGothic\n",
      "NanumMyeongjo Eco\n",
      "NanumBarunpen\n",
      "NanumSquare\n",
      "NanumSquare\n",
      "NanumGothic\n",
      "NanumBarunGothic\n",
      "NanumGothic Eco\n",
      "NanumMyeongjo Eco\n",
      "NanumGothicCoding\n",
      "NanumBarunpen\n",
      "NanumSquareRound\n",
      "NanumBarunGothic\n",
      "NanumGothic Eco\n",
      "NanumMyeongjo\n",
      "NanumGothic\n",
      "NanumMyeongjo Eco\n",
      "Nanum Brush Script\n",
      "NanumGothic\n",
      "NanumSquareRound\n",
      "NanumSquareRound\n",
      "NanumGothic\n",
      "NanumSquare\n"
     ]
    }
   ],
   "source": [
    "# 폰트 목록 확인하기!!!\n",
    "\n",
    "import matplotlib.font_manager\n",
    "font_list = matplotlib.font_manager.findSystemFonts(fontpaths=None, fontext='ttf')\n",
    "\n",
    "for font in font_list:\n",
    "    if 'Nanum' in font:\n",
    "        print(matplotlib.font_manager.FontProperties(fname=font).get_name())"
   ]
  },
  {
   "cell_type": "code",
   "execution_count": 9,
   "metadata": {},
   "outputs": [],
   "source": [
    "# 전역 폰트 적용하기\n",
    "\n",
    "import matplotlib.pyplot as plt\n",
    "plt.rc('font', family='NanumGothicCoding')\n",
    "\n",
    "# Troubleshooting -마이너스가 깨질 경우가 있음. 이 경우 아래 코드 추가\n",
    "\n",
    "import matplotlib as mpl\n",
    "mpl.rcParams['axes.unicode_minus']=False"
   ]
  },
  {
   "cell_type": "code",
   "execution_count": 10,
   "metadata": {},
   "outputs": [
    {
     "data": {
      "image/png": "[encoded data removed]",
      "text/plain": [
       "<Figure size 360x360 with 1 Axes>"
      ]
     },
     "metadata": {
      "needs_background": "light"
     },
     "output_type": "display_data"
    }
   ],
   "source": [
    "plt.figure(figsize=(5,5))\n",
    "plt.plot([0,1], [0,1], label='한글테스트용')\n",
    "plt.legend()\n",
    "plt.show()"
   ]
  },
  {
   "cell_type": "code",
   "execution_count": null,
   "metadata": {},
   "outputs": [],
   "source": []
  }
 ],
 "metadata": {
  "kernelspec": {
   "display_name": "Python 3",
   "language": "python",
   "name": "python3"
  },
  "language_info": {
   "codemirror_mode": {
    "name": "ipython",
    "version": 3
   },
   "file_extension": ".py",
   "mimetype": "text/x-python",
   "name": "python",
   "nbconvert_exporter": "python",
   "pygments_lexer": "ipython3",
   "version": "3.8.10"
  }
 },
 "nbformat": 4,
 "nbformat_minor": 4
}
