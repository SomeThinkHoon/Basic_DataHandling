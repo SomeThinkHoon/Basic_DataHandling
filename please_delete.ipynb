{
 "cells": [
  {
   "cell_type": "code",
   "execution_count": 9,
   "metadata": {},
   "outputs": [],
   "source": [
    "import numpy as np\n",
    "myList = list('abcdefghijklmnopqrstwuxyz')          # list\n",
    "myarr = np.arange(26)                               # array\n",
    "mydict = dict(zip(myList, myarr))                   # dictionary"
   ]
  },
  {
   "cell_type": "code",
   "execution_count": 12,
   "metadata": {},
   "outputs": [
    {
     "name": "stdout",
     "output_type": "stream",
     "text": [
      "This is List\n",
      "\n",
      "['a', 'b', 'c', 'd', 'e', 'f', 'g', 'h', 'i', 'j', 'k', 'l', 'm', 'n', 'o', 'p', 'q', 'r', 's', 't', 'w', 'u', 'x', 'y', 'z']\n",
      "===================================================\n",
      "This is Array\n",
      "\n",
      "[ 0  1  2  3  4  5  6  7  8  9 10 11 12 13 14 15 16 17 18 19 20 21 22 23\n",
      " 24 25]\n",
      "===================================================\n",
      "This is Dictionary\n",
      "\n",
      "{'a': 0, 'b': 1, 'c': 2, 'd': 3, 'e': 4, 'f': 5, 'g': 6, 'h': 7, 'i': 8, 'j': 9, 'k': 10, 'l': 11, 'm': 12, 'n': 13, 'o': 14, 'p': 15, 'q': 16, 'r': 17, 's': 18, 't': 19, 'w': 20, 'u': 21, 'x': 22, 'y': 23, 'z': 24}\n"
     ]
    }
   ],
   "source": [
    "print(\"This is List\")\n",
    "print(\"\")\n",
    "print(myList)\n",
    "print(\"===================================================\")\n",
    "print(\"This is Array\")\n",
    "print(\"\")\n",
    "print(myarr)\n",
    "print(\"===================================================\")\n",
    "print(\"This is Dictionary\")\n",
    "print(\"\")\n",
    "print(mydict)"
   ]
  },
  {
   "cell_type": "code",
   "execution_count": null,
   "metadata": {},
   "outputs": [],
   "source": []
  }
 ],
 "metadata": {
  "kernelspec": {
   "display_name": "Python 3",
   "language": "python",
   "name": "python3"
  },
  "language_info": {
   "codemirror_mode": {
    "name": "ipython",
    "version": 3
   },
   "file_extension": ".py",
   "mimetype": "text/x-python",
   "name": "python",
   "nbconvert_exporter": "python",
   "pygments_lexer": "ipython3",
   "version": "3.8.10"
  }
 },
 "nbformat": 4,
 "nbformat_minor": 4
}
